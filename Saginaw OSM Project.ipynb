{
 "cells": [
  {
   "cell_type": "markdown",
   "metadata": {},
   "source": [
    "# OpenStreetMap Data Case Study - Saginaw, Texas"
   ]
  },
  {
   "cell_type": "markdown",
   "metadata": {},
   "source": [
    "## Map Area\n",
    "Saginaw, TX, United States\n",
    "- https://www.openstreetmap.org/relation/6571681\n",
    "- https://www.google.com/maps/place/Saginaw,+TX\n",
    "\n",
    "This is a map of my hometown and I thought it would be interesting to see what the data revealed. I also thought the familiarity with street names and various locations would help me see problems in the dataset."
   ]
  },
  {
   "cell_type": "markdown",
   "metadata": {},
   "source": [
    "## Problems Encountered in the Map\n",
    "\n",
    "After downloading my initial OSM file of the Saginaw area, I condensed it into a smaller, more workable size to look at some problems in the dataset. There were a few problems areas that I wanted to address.\n"
   ]
  },
  {
   "cell_type": "markdown",
   "metadata": {},
   "source": [
    "### Inconsistent Street Naming Conventions\n",
    "\n",
    "The first problem I encountered was that the dataset has inconsistent street naming conventions (indicated by a 'k' value of 'addr:street' in my OSM file). For one example, here are the counts from various ways 'Boulevard' was input in the dataset:\n",
    "\n",
    "```python\n",
    "Blvd: 16\n",
    "BLVD: 17\n",
    "Blvd.: 4\n",
    "BLVD.: 2\n",
    "Boulevard: 664\n",
    "```"
   ]
  },
  {
   "cell_type": "markdown",
   "metadata": {},
   "source": [
    "To correct for these inconsistencies, I created a dictionary called `mapping` that held the incorrect street name endings as keys and their corrected names as its values. I then created a list called `expected` that held the proper name endings. If a street name ending did not exist in my expected list, it was replaced by its associated value from the `mapping` dictionary. I used a regular expression to extract the street name ending for this comparison. I choose to ignore street endings that were numeric because there are valid streets that end in a number, for example 'Highway 287'. Below is a code snippet from my `update_street` naming function located in `update_functions.py`."
   ]
  },
  {
   "cell_type": "markdown",
   "metadata": {},
   "source": [
    "```python\n",
    "#this function will update street name endings to format all data to a standard type of street address\n",
    "def update_street(name, mapping):\n",
    "    m = street_type_re.search(name)\n",
    "    if m:\n",
    "        street_type = m.group()\n",
    "        try:\n",
    "            if int(street_type):\n",
    "                return name.title()\n",
    "        except: \n",
    "            if street_type not in expected:\n",
    "                name = re.sub(street_type, mapping[street_type], name)\n",
    "                return name.title()\n",
    "            else:\n",
    "                return name.title()\n",
    "```"
   ]
  },
  {
   "cell_type": "markdown",
   "metadata": {},
   "source": [
    "Below is a query from my finalized database, `SaginawDB.db`, that shows we now have 0 abbreviated versions for street endings that should be 'Boulevard'."
   ]
  },
  {
   "cell_type": "code",
   "execution_count": 1,
   "metadata": {},
   "outputs": [],
   "source": [
    "import sqlite3\n",
    "import os\n",
    "import math\n",
    "db=sqlite3.connect(\"SaginawDB.db\")"
   ]
  },
  {
   "cell_type": "code",
   "execution_count": 2,
   "metadata": {},
   "outputs": [
    {
     "name": "stdout",
     "output_type": "stream",
     "text": [
      "0\n"
     ]
    }
   ],
   "source": [
    "c=db.cursor()\n",
    "streets=\"\"\"\n",
    "Select Count(*) \n",
    "From (Select value From nodes_tags where key=\"street\" \n",
    "Union Select value From ways_tags where key=\"street\") AS v \n",
    "Where value LIKE \"%BLVD\" or value LIKE \"%Blvd\" or \n",
    "value LIKE \"%Blvd.\" or value LIKE \"%BLVD.\";\n",
    "\"\"\"\n",
    "c.execute(streets)\n",
    "for c in c.fetchall():\n",
    "    print(c[0])"
   ]
  },
  {
   "cell_type": "markdown",
   "metadata": {},
   "source": [
    "### Inconsistent Location Naming Conventions\n",
    "Several categories have unusual naming conventions that included an underscore '_' in place of a space (indicated by the following 'k' values in my OSM file: 'denomination', 'amenity', 'tourism', 'leisure'). These categories also used all lower case to identify proper nouns like places of business. Here are a few examples:\n",
    "\n",
    "```python\n",
    "'church_of_christ'\n",
    "'roman_catholic'\n",
    "'community_centre'\n",
    "'charging_station'\n",
    "'waste_disposal'\n",
    "'dog_park'\n",
    "'golf_course'\n",
    "```"
   ]
  },
  {
   "cell_type": "markdown",
   "metadata": {},
   "source": [
    "To correct these irregularities and properly format using a standard naming convention, I replaced all occurrences of an underscore with a space and capitalized the first letter of each word following normal proper noun naming conventions. My `fix_name` function below (located in `update_functions.py`), executes these changes and utilizes the built in `title()` function for capitalization. I also used my `is_proper_noun` function (located in `helper_functions.py`), to correct this naming convention for the 'denomination', 'leisure', 'tourism', and 'amenity' categories."
   ]
  },
  {
   "cell_type": "markdown",
   "metadata": {},
   "source": [
    "```python\n",
    "def is_proper_noun(elem): \n",
    "    return (elem.attrib['k'] == \"denomination\" or elem.attrib['k'] == \"leisure\" or elem.attrib['k'] == \"tourism\" or \\\n",
    "           elem.attrib['k'] == \"amenity\")\n",
    "\n",
    "\n",
    "def fix_name (name):\n",
    "    if '_' in name:\n",
    "        return name.replace('_',' ').title()\n",
    "    else: \n",
    "        return name.title()\n",
    "```"
   ]
  },
  {
   "cell_type": "markdown",
   "metadata": {},
   "source": [
    "Here is one query from my finalized database that shows the corrected naming conventions for the denomination category. "
   ]
  },
  {
   "cell_type": "code",
   "execution_count": 3,
   "metadata": {},
   "outputs": [
    {
     "name": "stdout",
     "output_type": "stream",
     "text": [
      "Baptist\n",
      "Pentecostal\n",
      "Methodist\n",
      "Seventh Day Adventist\n",
      "Mormon\n",
      "Jehovahs Witness\n",
      "Church Of Christ\n",
      "Evangelical\n",
      "Roman Catholic\n"
     ]
    }
   ],
   "source": [
    "c=db.cursor()\n",
    "denomination=\"\"\"\n",
    "Select distinct v.value\n",
    "From (Select value From nodes_tags where key=\"denomination\" \n",
    "Union ALL Select value From ways_tags where key=\"denomination\") AS v\n",
    "LIMIT 10;\n",
    "\"\"\"\n",
    "c.execute(denomination)\n",
    "for c in c.fetchall():\n",
    "    print(c[0])"
   ]
  },
  {
   "cell_type": "markdown",
   "metadata": {},
   "source": [
    "### Inconsistent Units of Speed\n",
    "There are inconsistent units for speed limits (indicated by a 'k' value of 'maxspeed' in my OSM file). Most records used the American standard 'mph' for miles per hour, but others just indicated a number without an associated unit. Here is an example:\n",
    "\n",
    "```python\n",
    "{'30 mph', '70 mph', '65 mph', '10 mph', '45 mph', '30', '75 mph', '5 mph', '60 mph', '50 mph', '35 mph', '15 mph', '20 mph', '40 mph'}\n",
    "```"
   ]
  },
  {
   "cell_type": "markdown",
   "metadata": {},
   "source": [
    "To correct for this, I first verified the category was for 'maxspeed', using the `is_maxspeed` function (located in `helper_functions.py`). Then I created a `verify_speed` function (located in `update_functions.py`) and used a regular expression to extract the units from the 'maxspeed' category. If the category could be converted to an 'int' and therefore did not include a unit of speed, I then added the 'mph' unit.  "
   ]
  },
  {
   "cell_type": "markdown",
   "metadata": {},
   "source": [
    "```python\n",
    "#function will test if tag has a 'k' attribute that indicates it is a speed limit\n",
    "def is_maxspeed(elem): \n",
    "    return (elem.attrib['k'] == \"maxspeed\")\n",
    "\n",
    "#this function will verify the maxspeed attribute is the standard mph\n",
    "def verify_speed(name):\n",
    "\n",
    "    m = speed_type_re.search(name)\n",
    "    if m:\n",
    "        speed_type = m.group()\n",
    "        try:\n",
    "            if int(speed_type):\n",
    "                speed_type = speed_type + ' mph'\n",
    "                return speed_type\n",
    "        except: \n",
    "            return name \n",
    "```"
   ]
  },
  {
   "cell_type": "markdown",
   "metadata": {},
   "source": [
    "Here is a query from my finalized database that shows the corrected speed limits."
   ]
  },
  {
   "cell_type": "code",
   "execution_count": 4,
   "metadata": {},
   "outputs": [
    {
     "name": "stdout",
     "output_type": "stream",
     "text": [
      "10 mph\n",
      "15 mph\n",
      "20 mph\n",
      "30 mph\n",
      "35 mph\n",
      "40 mph\n",
      "45 mph\n",
      "5 mph\n",
      "50 mph\n",
      "60 mph\n"
     ]
    }
   ],
   "source": [
    "c=db.cursor()\n",
    "maxspeed=\"\"\"\n",
    "Select distinct v.value\n",
    "From (Select value From nodes_tags where key=\"maxspeed\" \n",
    "Union Select value From ways_tags where key=\"maxspeed\") AS v \n",
    "LIMIT 10;\n",
    "\"\"\"\n",
    "c.execute(maxspeed)\n",
    "for c in c.fetchall():\n",
    "    print(c[0])"
   ]
  },
  {
   "cell_type": "markdown",
   "metadata": {},
   "source": [
    "## Overview of the Data\n",
    "This section contains basic statistics about the dataset and the SQL queries used to gather them."
   ]
  },
  {
   "cell_type": "markdown",
   "metadata": {},
   "source": [
    "### File Sizes"
   ]
  },
  {
   "cell_type": "code",
   "execution_count": 5,
   "metadata": {},
   "outputs": [
    {
     "name": "stdout",
     "output_type": "stream",
     "text": [
      "Saginaw.osm       144353 KB\n",
      "SaginawDB.db      158119 KB\n",
      "ways.csv          5593 KB\n",
      "nodes.csv         59920 KB\n",
      "nodes_tags.csv    245 KB\n",
      "ways_tags.csv     7840 KB\n",
      "ways_nodes.csv    17877 KB\n"
     ]
    }
   ],
   "source": [
    "def get_file_size(filename):\n",
    "    file_size = math.ceil(os.path.getsize(filename)/1024)\n",
    "    return str(file_size)\n",
    "\n",
    "print('Saginaw.osm {:>12} KB'.format(get_file_size('Saginaw.osm')))\n",
    "print('SaginawDB.db {:>11} KB'.format(get_file_size('SaginawDB.db')))\n",
    "print('ways.csv {:>13} KB'.format(get_file_size('ways.csv')))\n",
    "print('nodes.csv {:>13} KB'.format(get_file_size('nodes.csv')))\n",
    "print('nodes_tags.csv {:>6} KB'.format(get_file_size('nodes_tags.csv')))\n",
    "print('ways_tags.csv {:>8} KB'.format(get_file_size('ways_tags.csv')))\n",
    "print('ways_nodes.csv {:>8} KB'.format(get_file_size('ways_nodes.csv')))"
   ]
  },
  {
   "cell_type": "markdown",
   "metadata": {},
   "source": [
    "### Number of Unique Users"
   ]
  },
  {
   "cell_type": "code",
   "execution_count": 6,
   "metadata": {},
   "outputs": [
    {
     "name": "stdout",
     "output_type": "stream",
     "text": [
      "609\n"
     ]
    }
   ],
   "source": [
    "c=db.cursor()\n",
    "unique_users='Select Count(uniq_users.uid) From (Select uid From nodes UNION Select uid From ways) AS uniq_users;'\n",
    "c.execute(unique_users)\n",
    "print(c.fetchone()[0])"
   ]
  },
  {
   "cell_type": "markdown",
   "metadata": {},
   "source": [
    "### Number of Nodes"
   ]
  },
  {
   "cell_type": "code",
   "execution_count": 7,
   "metadata": {},
   "outputs": [
    {
     "name": "stdout",
     "output_type": "stream",
     "text": [
      "640401\n"
     ]
    }
   ],
   "source": [
    "nodes_count='Select Count(*) From nodes;'\n",
    "c.execute(nodes_count)\n",
    "print(c.fetchone()[0])"
   ]
  },
  {
   "cell_type": "markdown",
   "metadata": {},
   "source": [
    "### Number of Ways"
   ]
  },
  {
   "cell_type": "code",
   "execution_count": 8,
   "metadata": {},
   "outputs": [
    {
     "name": "stdout",
     "output_type": "stream",
     "text": [
      "80008\n"
     ]
    }
   ],
   "source": [
    "ways_count='Select Count(*) From ways;'\n",
    "c.execute(ways_count)\n",
    "print(c.fetchone()[0])"
   ]
  },
  {
   "cell_type": "markdown",
   "metadata": {},
   "source": [
    "### Top 10 Leisures"
   ]
  },
  {
   "cell_type": "code",
   "execution_count": 9,
   "metadata": {},
   "outputs": [
    {
     "name": "stdout",
     "output_type": "stream",
     "text": [
      "Pitch 114\n",
      "Park 60\n",
      "Playground 25\n",
      "Swimming Pool 17\n",
      "Garden 10\n",
      "Bleachers 6\n",
      "Sports Centre 5\n",
      "Golf Course 3\n",
      "Common 3\n",
      "Picnic Table 2\n"
     ]
    }
   ],
   "source": [
    "c=db.cursor()\n",
    "top_leisure=\"\"\"\n",
    "Select distinct v.value, COUNT(*) as num \n",
    "From (Select value From nodes_tags where key=\"leisure\" \n",
    "Union ALL Select value From ways_tags where key=\"leisure\") AS v \n",
    "GROUP BY value\n",
    "ORDER BY num DESC\n",
    "LIMIT 10;\n",
    "\"\"\"\n",
    "c.execute(top_leisure)\n",
    "for c in c.fetchall():\n",
    "    print(c[0], c[1])"
   ]
  },
  {
   "cell_type": "markdown",
   "metadata": {},
   "source": [
    "### Top 10 Amenities"
   ]
  },
  {
   "cell_type": "code",
   "execution_count": 10,
   "metadata": {},
   "outputs": [
    {
     "name": "stdout",
     "output_type": "stream",
     "text": [
      "Parking 454\n",
      "Place Of Worship 103\n",
      "Restaurant 92\n",
      "Fast Food 78\n",
      "School 68\n",
      "Fuel 48\n",
      "Grave Yard 47\n",
      "Waste Disposal 23\n",
      "Bank 21\n",
      "Shelter 13\n"
     ]
    }
   ],
   "source": [
    "c=db.cursor()\n",
    "top_amenities=\"\"\"\n",
    "Select distinct v.value, COUNT(*) as num \n",
    "From (Select value From nodes_tags where key=\"amenity\" \n",
    "Union ALL Select value From ways_tags where key=\"amenity\") AS v \n",
    "GROUP BY value\n",
    "ORDER BY num DESC\n",
    "LIMIT 10;\n",
    "\"\"\"\n",
    "c.execute(top_amenities)\n",
    "for c in c.fetchall():\n",
    "    print(c[0], c[1])"
   ]
  },
  {
   "cell_type": "markdown",
   "metadata": {},
   "source": [
    "### Top 10 Areas of Tourism"
   ]
  },
  {
   "cell_type": "code",
   "execution_count": 11,
   "metadata": {},
   "outputs": [
    {
     "name": "stdout",
     "output_type": "stream",
     "text": [
      "Hotel 26\n",
      "Motel 19\n",
      "Artwork 8\n",
      "Attraction 7\n",
      "Picnic Site 6\n",
      "Museum 3\n",
      "Information 2\n",
      "Trail Riding Station 1\n"
     ]
    }
   ],
   "source": [
    "c=db.cursor()\n",
    "tourism=\"\"\"\n",
    "Select distinct v.value, COUNT(*) as num \n",
    "From (Select value From nodes_tags where key=\"tourism\" \n",
    "Union ALL Select value From ways_tags where key=\"tourism\") AS v \n",
    "GROUP BY value\n",
    "ORDER BY num DESC\n",
    "LIMIT 10;\n",
    "\"\"\"\n",
    "c.execute(tourism)\n",
    "for c in c.fetchall():\n",
    "    print(c[0], c[1])"
   ]
  },
  {
   "cell_type": "markdown",
   "metadata": {},
   "source": [
    "### Top 10 Denominations"
   ]
  },
  {
   "cell_type": "code",
   "execution_count": 12,
   "metadata": {},
   "outputs": [
    {
     "name": "stdout",
     "output_type": "stream",
     "text": [
      "Baptist 40\n",
      "Methodist 7\n",
      "Pentecostal 6\n",
      "Roman Catholic 3\n",
      "Seventh Day Adventist 2\n",
      "Mormon 2\n",
      "Jehovahs Witness 1\n",
      "Evangelical 1\n",
      "Church Of Christ 1\n"
     ]
    }
   ],
   "source": [
    "c=db.cursor()\n",
    "denomination=\"\"\"\n",
    "Select distinct v.value, COUNT(*) as num \n",
    "From (Select value From nodes_tags where key=\"denomination\" \n",
    "Union ALL Select value From ways_tags where key=\"denomination\") AS v \n",
    "GROUP BY value\n",
    "ORDER BY num DESC\n",
    "LIMIT 10;\n",
    "\"\"\"\n",
    "c.execute(denomination)\n",
    "for c in c.fetchall():\n",
    "    print(c[0], c[1])"
   ]
  },
  {
   "cell_type": "markdown",
   "metadata": {},
   "source": [
    "### Most Common Fast Food Restaurant"
   ]
  },
  {
   "cell_type": "code",
   "execution_count": 13,
   "metadata": {},
   "outputs": [
    {
     "name": "stdout",
     "output_type": "stream",
     "text": [
      "Whataburger 7\n",
      "McDonald's 6\n",
      "Chick-fil-A 3\n",
      "Panda Express 3\n",
      "Sonic 3\n",
      "Taco Bell 3\n",
      "Taco Cabana 3\n",
      "Braum's 2\n",
      "Firehouse Subs 2\n",
      "In-N-Out Burger 2\n"
     ]
    }
   ],
   "source": [
    "c=db.cursor()\n",
    "most_fast_food=\"\"\"\n",
    "SELECT ways_tags.value, COUNT(*) as num\n",
    "FROM ways_tags\n",
    "JOIN (SELECT DISTINCT(id) FROM ways_tags WHERE value='Fast Food') i\n",
    "ON ways_tags.id=i.id\n",
    "WHERE ways_tags.key='name'\n",
    "GROUP BY ways_tags.value\n",
    "UNION \n",
    "SELECT nodes_tags.value, COUNT(*) as num\n",
    "FROM nodes_tags\n",
    "JOIN (SELECT DISTINCT(id) FROM nodes_tags WHERE value='Fast Food') j\n",
    "ON nodes_tags.id=j.id\n",
    "WHERE nodes_tags.key='name'\n",
    "GROUP BY nodes_tags.value\n",
    "ORDER BY num DESC\n",
    "LIMIT 10;\n",
    "\"\"\"\n",
    "c.execute(most_fast_food)\n",
    "for c in c.fetchall():\n",
    "    print(c[0], c[1])"
   ]
  },
  {
   "cell_type": "markdown",
   "metadata": {},
   "source": [
    "## Most Common Dine-In Restaurant"
   ]
  },
  {
   "cell_type": "code",
   "execution_count": 14,
   "metadata": {},
   "outputs": [
    {
     "name": "stdout",
     "output_type": "stream",
     "text": [
      "Waffle House 3\n",
      "Chili's 2\n",
      "Denny's 2\n",
      "Newk's Eatery 2\n",
      "On The Border 2\n",
      "Alba's Italian Restaurant 1\n",
      "An Zen Asian Dining 1\n",
      "BoomerJack's Grill and Bar 1\n",
      "Boopa's Bagel and Deli 1\n",
      "Bosses Pizza and Pasta 1\n"
     ]
    }
   ],
   "source": [
    "c=db.cursor()\n",
    "most_restaurant=\"\"\"\n",
    "SELECT ways_tags.value, COUNT(*) as num\n",
    "FROM ways_tags\n",
    "JOIN (SELECT DISTINCT(id) FROM ways_tags WHERE value='Restaurant') i\n",
    "ON ways_tags.id=i.id\n",
    "WHERE ways_tags.key='name'\n",
    "GROUP BY ways_tags.value\n",
    "UNION \n",
    "SELECT nodes_tags.value, COUNT(*) as num\n",
    "FROM nodes_tags\n",
    "JOIN (SELECT DISTINCT(id) FROM nodes_tags WHERE value='Restaurant') j\n",
    "ON nodes_tags.id=j.id\n",
    "WHERE nodes_tags.key='name'\n",
    "GROUP BY nodes_tags.value\n",
    "ORDER BY num DESC\n",
    "LIMIT 10;\n",
    "\"\"\"\n",
    "c.execute(most_restaurant)\n",
    "for c in c.fetchall():\n",
    "    print(c[0], c[1])"
   ]
  },
  {
   "cell_type": "markdown",
   "metadata": {},
   "source": [
    "## Additional Ideas"
   ]
  },
  {
   "cell_type": "markdown",
   "metadata": {},
   "source": [
    "Of the 609 unique users that contributed to the dataset, I was curious who were the top contributing users. I explored this in the code below."
   ]
  },
  {
   "cell_type": "code",
   "execution_count": 15,
   "metadata": {},
   "outputs": [
    {
     "name": "stdout",
     "output_type": "stream",
     "text": [
      "Andrew Matheny_import 574348\n",
      "Andrew Matheny 20183\n",
      "woodpeck_fixbot 13019\n",
      "Thea Clay 13011\n",
      "houston_mapper1 10591\n",
      "Юкатан 5097\n",
      "RoadGeek_MD99 4746\n",
      "karl-marx 4497\n",
      "bournkev12 3757\n",
      "T Smiley 2932\n"
     ]
    }
   ],
   "source": [
    "c=db.cursor()\n",
    "top_user_contributions = \"\"\"\n",
    "SELECT e.user, COUNT(*) as num\n",
    "FROM (SELECT user FROM nodes UNION ALL SELECT user FROM ways) e\n",
    "GROUP BY e.user\n",
    "ORDER BY num DESC\n",
    "LIMIT 10;\n",
    "\"\"\"\n",
    "c.execute(top_user_contributions)\n",
    "for c in c.fetchall():\n",
    "    print(c[0],c[1])"
   ]
  },
  {
   "cell_type": "markdown",
   "metadata": {},
   "source": [
    "I would say it is safe to assume 'Andrew Matheny_import' and 'Andrew Matheny' are probably the same person. Meaning this one user contributed to 594531 of the total pieces of data in the dataset. So then I wanted to determine what percent of the total this one user contributed."
   ]
  },
  {
   "cell_type": "code",
   "execution_count": 16,
   "metadata": {},
   "outputs": [
    {
     "name": "stdout",
     "output_type": "stream",
     "text": [
      "720409\n"
     ]
    }
   ],
   "source": [
    "c=db.cursor()\n",
    "total='Select Count(*) From (SELECT user FROM nodes UNION ALL SELECT user FROM ways) total;'\n",
    "c.execute(total)\n",
    "print(c.fetchone()[0])"
   ]
  },
  {
   "cell_type": "markdown",
   "metadata": {},
   "source": [
    "Out of the 720409 entries in total, Andrew Matheny contributed 594531, which is approximately 82.53% of the entire dataset. If we take the contributions from the top 5 contributors, we see that more than 88% of our data was collected from 5 sources, one of which has the name 'fixbot'. Considering a majority of our dataset is from a handful of users, it would be beneficial if more users were contributing towards a more complete and accurate OpenStreetMap data set. Limiting the data to a handful of users can lead to more inaccuracies in the dataset. If one of these predominate users continuously added erroneous data, then a large percentage of the dataset would reflect these inaccuracies. Having a more diversified set of users could help eliminate this issue. More users entering and editing data that was incorrect would mean the overall dataset was more accurate. Also having more users contributing would mean a wider range of streets and places would be included. Additional users, each contributing a small amount, would lead to less work for everyone and more attention could be spent on accuracy and minute details. \n",
    "\n",
    " The challenge is finding enough people who are willing to do stuff for the advancement of technology and the greater whole, without being financially compensated.  One idea I had for this would be to try to involve the local community colleges or universities. When I was attending my local community college, I had a professor who was very involved in helping the community, while simultaneously providing her students with opportunities to get hands on experience with web development and general IT exposure. This type of collaborative effort from a local community college could be exactly what the OpenStreetMap project could benefit from. If some entry level computer science courses had their students register for the OSM project and contribute to the data around the areas they live, work, and go to school, it would further the OSM project and provide more accurate data. It could be beneficial for the students as well by having real life exposure to some coding assignments. The data cleaning aspect of any category I refined in my project would be perfect coding projects or assignments for entry level computer science students. I’m sure most professors could find a way to integrate some aspect of the OSM project into their curriculum while simultaneously contributing to the OSM project. I know there would be challenges in finding local colleges and universities to participate; as well as challenges integrating such a project into a normal curriculum, but it could be mutually beneficial to all parties involved.  \n",
    "  "
   ]
  },
  {
   "cell_type": "markdown",
   "metadata": {},
   "source": [
    "## Conclusion\n",
    "After spending a decent amount of time looking through and refining this dataset, I can see there is quite a bit of work to be done. There are numerous inconsistencies for both categories and the formatting of data in these categories. Numerous fields exist for something a simple as a zipcode: zip_left, zip_right, and addr:postcode just to name a few. Not to mention inconsistencies within these categories, such as variations in units used. It was interesting to dig into some of this data and see categories like the number of fast food restaurants, with my favorite, Whataburger coming out on top. It was also not a surprise to me to see very little in the means of tourism. The top two from this category were hotels and motels. Saginaw is a fast-growing suburb of Fort Worth, but it is still small in the grand scheme of things. "
   ]
  },
  {
   "cell_type": "markdown",
   "metadata": {},
   "source": [
    "## References"
   ]
  },
  {
   "cell_type": "markdown",
   "metadata": {},
   "source": [
    "https://stackoverflow.com/questions/6591931/getting-file-size-in-python\n",
    "\n",
    "https://www.w3schools.com/python/ref_string_format.asp\n",
    "\n",
    "https://gist.github.com/carlward/54ec1c91b62a5f911c42#file-sample_project-md"
   ]
  },
  {
   "cell_type": "code",
   "execution_count": 17,
   "metadata": {},
   "outputs": [],
   "source": [
    "db.close()"
   ]
  }
 ],
 "metadata": {
  "kernelspec": {
   "display_name": "Python 3",
   "language": "python",
   "name": "python3"
  },
  "language_info": {
   "codemirror_mode": {
    "name": "ipython",
    "version": 3
   },
   "file_extension": ".py",
   "mimetype": "text/x-python",
   "name": "python",
   "nbconvert_exporter": "python",
   "pygments_lexer": "ipython3",
   "version": "3.7.6"
  }
 },
 "nbformat": 4,
 "nbformat_minor": 4
}
